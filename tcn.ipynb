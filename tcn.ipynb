{
 "cells": [
  {
   "cell_type": "code",
   "execution_count": null,
   "metadata": {},
   "outputs": [],
   "source": [
    "from __future__ import absolute_import, division, print_function, unicode_literals\n",
    "\n",
    "import tensorflow as tf\n",
    "from tensorflow import keras\n",
    "from utils import load_data,get_word_index\n",
    "import numpy as np\n",
    "\n",
    "import tensorflow_addons as tfa\n",
    "from tensorflow.keras.layers import Layer\n",
    "from tensorflow.keras.regularizers import l2"
   ]
  },
  {
   "cell_type": "code",
   "execution_count": null,
   "metadata": {
    "collapsed": true
   },
   "outputs": [],
   "source": [
    "(train_data, train_labels), (test_data, test_labels) = load_data()\n",
    "# 一个映射单词到整数索引的词典\n",
    "word_index = get_word_index()\n",
    "\n",
    "# 保留第一个索引\n",
    "word_index = {k:(v+3) for k,v in word_index.items()}\n",
    "word_index[\"<PAD>\"] = 0\n",
    "word_index[\"<START>\"] = 1\n",
    "word_index[\"<UNK>\"] = 2  # unknown\n",
    "word_index[\"<UNUSED>\"] = 3\n",
    "\n",
    "reverse_word_index = dict([(value, key) for (key, value) in word_index.items()])\n",
    "\n",
    "def decode_review(text):\n",
    "    return ' '.join([reverse_word_index.get(i, '?') for i in text])"
   ]
  },
  {
   "cell_type": "code",
   "execution_count": null,
   "metadata": {
    "collapsed": true
   },
   "outputs": [],
   "source": [
    "train_data = keras.preprocessing.sequence.pad_sequences(train_data,\n",
    "                                                        value=word_index[\"<PAD>\"],\n",
    "                                                        padding='post',\n",
    "                                                        maxlen=256)\n",
    "\n",
    "test_data = keras.preprocessing.sequence.pad_sequences(test_data,\n",
    "                                                       value=word_index[\"<PAD>\"],\n",
    "                                                       padding='post',\n",
    "                                                       maxlen=256)"
   ]
  },
  {
   "cell_type": "markdown",
   "metadata": {},
   "source": [
    "论文地址：https://arxiv.org/pdf/1803.01271.pdf  \n",
    "<img src=\"./tcn.png\" style=\"width:400;height:300px;\"> \n",
    "结构很简单"
   ]
  },
  {
   "cell_type": "code",
   "execution_count": null,
   "metadata": {},
   "outputs": [],
   "source": [
    "class dilatedConv(Layer):\n",
    "    def __init__(self, filters, kernel_size, dilated, regularizer, **kwargs):\n",
    "        self.filters = filters\n",
    "        self.kernel_size = kernel_size\n",
    "        self.dilated = dilated\n",
    "        self.regularizer = l2(l=0.01)\n",
    "        super(dilatedConv, self).__init__(**kwargs)\n",
    "\n",
    "    def build(self, input_shape):\n",
    "        input_dim = input_shape[-1]\n",
    "        self.conv1 = tfa.layers.WeightNormalization(\n",
    "            keras.layers.Conv1D(self.filters, self.kernel_size, dilation_rate=self.dilated[0], \n",
    "                                padding='causal', kernel_regularizer = self.regularizer)\n",
    "        )\n",
    "        self.conv2 = tfa.layers.WeightNormalization(\n",
    "            keras.layers.Conv1D(self.filters, self.kernel_size, dilation_rate=self.dilated[1], \n",
    "                                padding='causal', kernel_regularizer = self.regularizer)\n",
    "        )\n",
    "        self.conv3 = tfa.layers.WeightNormalization(\n",
    "            keras.layers.Conv1D(self.filters, self.kernel_size, dilation_rate=self.dilated[2], \n",
    "                                padding='causal', kernel_regularizer = self.regularizer)\n",
    "        )\n",
    "        super(dilatedConv, self).build(input_shape)\n",
    "    \n",
    "    def call(self, inputs, **kwargs):\n",
    "        #inputs = tf.pad(inputs, [[0,0], [(self.kernel_size-1)*self.dilated[0],0], [0,0]]) #抵消（k-1）*d带来的维度变化\n",
    "        #padding='causal'更简单\n",
    "        dconv1 = self.conv1(inputs)\n",
    "        dconv2 = self.conv2(dconv1)\n",
    "        dconv3 = self.conv3(dconv2)\n",
    "        return dconv3\n",
    "\n",
    "def residual_block(filters, kernel_size, dilated, inputs, regularizer = l2(l=0.0)):\n",
    "    residual_conv = keras.layers.Conv1D(filters, 1)(inputs)\n",
    "    \n",
    "    Dconv1 = dilatedConv(filters, kernel_size, dilated, regularizer)(inputs)\n",
    "    relu1 = keras.layers.ReLU()(Dconv1)\n",
    "    drop1 = keras.layers.Dropout(0.5)(relu1)\n",
    "    Dconv2 = dilatedConv(filters, kernel_size, dilated, regularizer)(drop1)\n",
    "    relu2 = keras.layers.ReLU()(Dconv2)\n",
    "    drop2 = keras.layers.Dropout(0.5)(relu2)\n",
    "    \n",
    "    return tf.add(drop2, residual_conv)"
   ]
  },
  {
   "cell_type": "code",
   "execution_count": null,
   "metadata": {},
   "outputs": [],
   "source": [
    "vocab_size = len(word_index)\n",
    "inputs = keras.layers.Input(shape = (256,), name = 'input')\n",
    "emb = keras.layers.Embedding(vocab_size, 32)(inputs)\n",
    "\n",
    "tcn = residual_block(32, 3, [1, 2, 4], emb)\n",
    "dense = keras.layers.GlobalAveragePooling1D()(tcn)\n",
    "dense = keras.layers.Dense(16, activation='relu')(dense)\n",
    "outputs = keras.layers.Dense(1, activation='sigmoid')(dense)"
   ]
  },
  {
   "cell_type": "code",
   "execution_count": null,
   "metadata": {},
   "outputs": [],
   "source": [
    "##数据集小特别容易过拟合\n",
    "optimizer = keras.optimizers.Adam(learning_rate = 0.01)\n",
    "early_stopping = keras.callbacks.EarlyStopping(monitor='val_loss', patience=3)\n",
    "\n",
    "model = keras.Model(inputs = [inputs], outputs = [outputs])\n",
    "\n",
    "model.compile(optimizer=optimizer,\n",
    "              loss='binary_crossentropy',\n",
    "              metrics=['accuracy', keras.metrics.Precision()],\n",
    "              callbacks=[early_stopping]\n",
    "             )\n",
    "\n",
    "history = model.fit(train_data,\n",
    "                    train_labels,\n",
    "                    epochs=2,\n",
    "                    batch_size=256,\n",
    "                    shuffle=True,\n",
    "                    validation_data=(test_data, test_labels),\n",
    "                    verbose=1)"
   ]
  },
  {
   "cell_type": "code",
   "execution_count": null,
   "metadata": {},
   "outputs": [],
   "source": []
  },
  {
   "cell_type": "code",
   "execution_count": null,
   "metadata": {
    "collapsed": true
   },
   "outputs": [],
   "source": []
  }
 ],
 "metadata": {
  "kernelspec": {
   "display_name": "Python [conda env:anaconda3]",
   "language": "python",
   "name": "conda-env-anaconda3-py"
  },
  "language_info": {
   "codemirror_mode": {
    "name": "ipython",
    "version": 3
   },
   "file_extension": ".py",
   "mimetype": "text/x-python",
   "name": "python",
   "nbconvert_exporter": "python",
   "pygments_lexer": "ipython3",
   "version": "3.5.3"
  }
 },
 "nbformat": 4,
 "nbformat_minor": 2
}
